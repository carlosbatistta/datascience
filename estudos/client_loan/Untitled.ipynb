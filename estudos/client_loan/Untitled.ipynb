{
 "cells": [
  {
   "cell_type": "markdown",
   "id": "2915b37f-8800-4257-9d0c-57da80f78001",
   "metadata": {},
   "source": [
    "A base utilizada neste projeto contém informações financeiras, comportamentais e históricas de crédito dos clientes. Abaixo, um resumo das principais colunas:\n",
    "\n",
    "| Coluna                    | Descrição                                                         |\n",
    "|---------------------------|-------------------------------------------------------------------|\n",
    "| ID                        | Identificador único do registro                                   |\n",
    "| Customer_ID               | Identificador do cliente                                          |\n",
    "| Month                     | Mês de referência da transação                                    |\n",
    "| Name                      | Nome do cliente                                                   |\n",
    "| Age                       | Idade do cliente                                                  |\n",
    "| SSN                       | Número de segurança social (formato com caracteres especiais)     |\n",
    "| Occupation                | Profissão do cliente                                              |\n",
    "| Annual_Income             | Renda anual                                                       |\n",
    "| Monthly_Inhand_Salary     | Salário mensal disponível                                         |\n",
    "| Num_Bank_Accounts         | Número de contas bancárias                                        |\n",
    "| Num_Credit_Card           | Número de cartões de crédito                                      |\n",
    "| Interest_Rate             | Taxa de juros                                                     |\n",
    "| Num_of_Loan               | Quantidade de empréstimos ativos                                  |\n",
    "| Type_of_Loan              | Tipos de empréstimos (texto com múltiplos valores)                |\n",
    "| Delay_from_due_date       | Dias de atraso no pagamento                                       |\n",
    "| Num_of_Delayed_Payment    | Número de pagamentos atrasados                                    |\n",
    "| Changed_Credit_Limit      | Alteração no limite de crédito                                    |\n",
    "| Num_Credit_Inquiries      | Número de consultas de crédito                                    |\n",
    "| Credit_Mix                | Tipo de crédito utilizado (ruim, padrão, bom)                     |\n",
    "| Outstanding_Debt          | Dívida pendente                                                   |\n",
    "| Credit_Utilization_Ratio  | Percentual de utilização do limite de crédito                     |\n",
    "| Credit_History_Age        | Tempo de histórico de crédito                                     |\n",
    "| Payment_of_Min_Amount     | Se o pagamento mínimo foi realizado                               |\n",
    "| Payment_Behaviour         | Comportamento de pagamento                                        |\n",
    "| Monthly_Balance           | Saldo médio mensal                                                |\n",
    "| Amount_invested_monthly   | Valor investido mensalmente                                       |\n",
    "| Credit_Score              | Classificação do crédito (ruim, padrão, bom)                      |\n",
    " "
   ]
  },
  {
   "cell_type": "code",
   "execution_count": null,
   "id": "6dbb692e-1f4e-41fc-928b-deadac7f5198",
   "metadata": {},
   "outputs": [],
   "source": [
    "# Load dataset\n",
    "app_record = pd.read_csv('C:/Users/ADMIN/Documents/datascience/base/credit/application_record.csv')"
   ]
  }
 ],
 "metadata": {
  "kernelspec": {
   "display_name": "Python 3 (ipykernel)",
   "language": "python",
   "name": "python3"
  },
  "language_info": {
   "codemirror_mode": {
    "name": "ipython",
    "version": 3
   },
   "file_extension": ".py",
   "mimetype": "text/x-python",
   "name": "python",
   "nbconvert_exporter": "python",
   "pygments_lexer": "ipython3",
   "version": "3.12.4"
  }
 },
 "nbformat": 4,
 "nbformat_minor": 5
}
