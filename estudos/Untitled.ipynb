{
 "cells": [
  {
   "cell_type": "markdown",
   "id": "2915b37f-8800-4257-9d0c-57da80f78001",
   "metadata": {},
   "source": [
    "A base utilizada neste projeto contém informações financeiras, comportamentais e históricas de crédito dos clientes. Abaixo, um resumo das principais colunas:\n",
    "\n",
    "| Coluna                    | Descrição                                                         |\n",
    "|---------------------------|-------------------------------------------------------------------|\n",
    "| ID                        | Identificador único do registro                                   |\n",
    "| Customer_ID               | Identificador do cliente                                          |\n",
    "| Month                     | Mês de referência da transação                                    |\n",
    "| Name                      | Nome do cliente                                                   |\n",
    "| Age                       | Idade do cliente                                                  |\n",
    "| SSN                       | Número de segurança social (formato com caracteres especiais)     |\n",
    "| Occupation                | Profissão do cliente                                              |\n",
    "| Annual_Income             | Renda anual                                                       |\n",
    "| Monthly_Inhand_Salary     | Salário mensal disponível                                         |\n",
    "| Num_Bank_Accounts         | Número de contas bancárias                                        |\n",
    "| Num_Credit_Card           | Número de cartões de crédito                                      |\n",
    "| Interest_Rate             | Taxa de juros                                                     |\n",
    "| Num_of_Loan               | Quantidade de empréstimos ativos                                  |\n",
    "| Type_of_Loan              | Tipos de empréstimos (texto com múltiplos valores)                |\n",
    "| Delay_from_due_date       | Dias de atraso no pagamento                                       |\n",
    "| Num_of_Delayed_Payment    | Número de pagamentos atrasados                                    |\n",
    "| Changed_Credit_Limit      | Alteração no limite de crédito                                    |\n",
    "| Num_Credit_Inquiries      | Número de consultas de crédito                                    |\n",
    "| Credit_Mix                | Tipo de crédito utilizado (ruim, padrão, bom)                     |\n",
    "| Outstanding_Debt          | Dívida pendente                                                   |\n",
    "| Credit_Utilization_Ratio  | Percentual de utilização do limite de crédito                     |\n",
    "| Credit_History_Age        | Tempo de histórico de crédito                                     |\n",
    "| Payment_of_Min_Amount     | Se o pagamento mínimo foi realizado                               |\n",
    "| Payment_Behaviour         | Comportamento de pagamento                                        |\n",
    "| Monthly_Balance           | Saldo médio mensal                                                |\n",
    "| Amount_invested_monthly   | Valor investido mensalmente                                       |\n",
    "| Credit_Score              | Classificação do crédito (ruim, padrão, bom)                      |\n",
    " "
   ]
  },
  {
   "cell_type": "code",
   "execution_count": 4,
   "id": "93c4cd38-947a-422b-8d39-533a548044ac",
   "metadata": {},
   "outputs": [],
   "source": [
    "# Import necessary libraries\n",
    "import pandas as pd"
   ]
  },
  {
   "cell_type": "code",
   "execution_count": 8,
   "id": "6dbb692e-1f4e-41fc-928b-deadac7f5198",
   "metadata": {},
   "outputs": [],
   "source": [
    "# Load dataset\n",
    "df_total = pd.read_csv('C:/Users/BATISTA/Documents/GitHub/datascience/estudos/base/client_loan/test.csv')"
   ]
  },
  {
   "cell_type": "code",
   "execution_count": null,
   "id": "9a3b05b7-29dd-4b7a-b210-be2f9c6114fe",
   "metadata": {},
   "outputs": [],
   "source": [
    "print(df_total.head())"
   ]
  },
  {
   "cell_type": "code",
   "execution_count": null,
   "id": "358c7611-a753-45ad-9abe-36bb7d92c1c1",
   "metadata": {},
   "outputs": [],
   "source": [
    "# Creating subplots for distributions of various features\n",
    "fig = make_subplots(\n",
    "    rows=3, cols=3,\n",
    "    subplot_titles=('Income', 'Education Level', 'Family Status', 'Housing Type', 'Age', 'Years Employed')\n",
    ")\n",
    "\n",
    "# Income Distribution\n",
    "income_fig = px.histogram(app_record, x='AMT_INCOME_TOTAL', nbins=50, title='Income Distribution',\n",
    "                          color_discrete_sequence=['#00CC96'], template='plotly_dark').data[0]\n",
    "fig.add_trace(income_fig, row=1, col=2)\n",
    "\n",
    "# Education Level Distribution\n",
    "education_fig = px.histogram(app_record, x='NAME_EDUCATION_TYPE', title='Education Level Distribution',\n",
    "                             color='NAME_EDUCATION_TYPE', color_discrete_sequence=px.colors.qualitative.Set2, template='plotly_dark').data[0]\n",
    "fig.add_trace(education_fig, row=1, col=3)\n",
    "\n",
    "# Family Status Distribution\n",
    "family_fig = px.histogram(app_record, x='NAME_FAMILY_STATUS', title='Family Status Distribution',\n",
    "                          color='NAME_FAMILY_STATUS', color_discrete_sequence=px.colors.qualitative.Vivid, template='plotly_dark').data[0]\n",
    "fig.add_trace(family_fig, row=2, col=1)\n",
    "\n",
    "# Housing Type Distribution\n",
    "housing_fig = px.histogram(app_record, x='NAME_HOUSING_TYPE', title='Housing Type Distribution',\n",
    "                           color='NAME_HOUSING_TYPE', color_discrete_sequence=px.colors.qualitative.Alphabet, template='plotly_dark').data[0]\n",
    "fig.add_trace(housing_fig, row=2, col=2)\n",
    "\n",
    "# Age Distribution\n",
    "app_record['AGE'] = app_record['DAYS_BIRTH'] // -365\n",
    "age_fig = px.histogram(app_record, x='AGE', nbins=50, title='Age Distribution',\n",
    "                       color_discrete_sequence=['#FFA15A'], template='plotly_dark').data[0]\n",
    "fig.add_trace(age_fig, row=2, col=3)\n",
    "\n",
    "# Years Employed Distribution\n",
    "app_record['YEARS_EMPLOYED'] = app_record['DAYS_EMPLOYED'] // -365\n",
    "employed_fig = px.histogram(app_record, x='YEARS_EMPLOYED', nbins=50, title='Years Employed Distribution',\n",
    "                            color_discrete_sequence=['#AB63FA'], template='plotly_dark').data[0]\n",
    "fig.add_trace(employed_fig, row=3, col=1)\n",
    "\n",
    "fig.update_layout(height=900, width=900, title_text='Distributions of Various Features', title_font_size=24, title_x=0.5)\n",
    "fig.show()"
   ]
  }
 ],
 "metadata": {
  "kernelspec": {
   "display_name": "Python 3 (ipykernel)",
   "language": "python",
   "name": "python3"
  },
  "language_info": {
   "codemirror_mode": {
    "name": "ipython",
    "version": 3
   },
   "file_extension": ".py",
   "mimetype": "text/x-python",
   "name": "python",
   "nbconvert_exporter": "python",
   "pygments_lexer": "ipython3",
   "version": "3.12.4"
  }
 },
 "nbformat": 4,
 "nbformat_minor": 5
}
