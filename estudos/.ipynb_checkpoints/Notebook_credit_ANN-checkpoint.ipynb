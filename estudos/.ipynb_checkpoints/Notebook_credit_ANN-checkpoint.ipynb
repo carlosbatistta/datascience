{
 "cells": [
  {
   "cell_type": "markdown",
   "metadata": {
    "application/vnd.databricks.v1+cell": {
     "cellMetadata": {
      "byteLimit": 2048000,
      "rowLimit": 10000
     },
     "inputWidgets": {},
     "nuid": "7d9dae62-555f-48de-9e0b-9ed443472c11",
     "showTitle": false,
     "tableResultSettingsMap": {},
     "title": ""
    },
    "collapsed": true,
    "jupyter": {
     "outputs_hidden": true
    }
   },
   "source": [
    "### 📑 Dicionário de Dados - Visão Geral\n",
    "\n",
    "A base utilizada neste projeto contém informações financeiras, comportamentais e históricas de crédito dos clientes. Abaixo, um resumo das principais colunas:\n",
    "\n",
    "| Coluna                     | Descrição                                                        |\n",
    "|---------------------------|-------------------------------------------------------------------|\n",
    "| ID                        | Identificador único do registro                                   |\n",
    "| Customer_ID               | Identificador do cliente                                          |\n",
    "| Month                     | Mês de referência da transação                                    |\n",
    "| Name                      | Nome do cliente                                                   |\n",
    "| Age                       | Idade do cliente                                                  |\n",
    "| SSN                       | Número de segurança social (formato com caracteres especiais)     |\n",
    "| Occupation                | Profissão do cliente                                              |\n",
    "| Annual_Income             | Renda anual                                                       |\n",
    "| Monthly_Inhand_Salary     | Salário mensal disponível                                         |\n",
    "| Num_Bank_Accounts         | Número de contas bancárias                                        |\n",
    "| Num_Credit_Card           | Número de cartões de crédito                                      |\n",
    "| Interest_Rate             | Taxa de juros                                                     |\n",
    "| Num_of_Loan               | Quantidade de empréstimos ativos                                  |\n",
    "| Type_of_Loan              | Tipos de empréstimos (texto com múltiplos valores)                |\n",
    "| Delay_from_due_date       | Dias de atraso no pagamento                                       |\n",
    "| Num_of_Delayed_Payment    | Número de pagamentos atrasados                                    |\n",
    "| Changed_Credit_Limit      | Alteração no limite de crédito                                    |\n",
    "| Num_Credit_Inquiries      | Número de consultas de crédito                                    |\n",
    "| Credit_Mix                | Tipo de crédito utilizado (ruim, padrão, bom)                     |\n",
    "| Outstanding_Debt          | Dívida pendente                                                   |\n",
    "| Credit_Utilization_Ratio  | Percentual de utilização do limite de crédito                     |\n",
    "| Credit_History_Age        | Tempo de histórico de crédito                                     |\n",
    "| Payment_of_Min_Amount     | Se o pagamento mínimo foi realizado                               |\n",
    "| Payment_Behaviour         | Comportamento de pagamento                                        |\n",
    "| Monthly_Balance           | Saldo médio mensal                                                |\n",
    "| Amount_invested_monthly   | Valor investido mensalmente                                       |\n",
    "| Credit_Score              | Classificação do crédito (ruim, padrão, bom)                      |\n",
    " \n",
    "Estas colunas passarão por etapas de limpeza, transformação e modelagem para alimentar o pipeline de classificação de clientes.\n"
   ]
  },
  {
   "cell_type": "code",
   "execution_count": 2,
   "metadata": {
    "application/vnd.databricks.v1+cell": {
     "cellMetadata": {
      "byteLimit": 2048000,
      "rowLimit": 10000
     },
     "inputWidgets": {},
     "nuid": "490fa748-09fa-46a1-a11b-ff7372e2e5dc",
     "showTitle": false,
     "tableResultSettingsMap": {},
     "title": ""
    }
   },
   "outputs": [
    {
     "ename": "ModuleNotFoundError",
     "evalue": "No module named 'pyspark'",
     "output_type": "error",
     "traceback": [
      "\u001b[1;31m---------------------------------------------------------------------------\u001b[0m",
      "\u001b[1;31mModuleNotFoundError\u001b[0m                       Traceback (most recent call last)",
      "Cell \u001b[1;32mIn[2], line 2\u001b[0m\n\u001b[0;32m      1\u001b[0m \u001b[38;5;66;03m#Importações\u001b[39;00m\n\u001b[1;32m----> 2\u001b[0m \u001b[38;5;28;01mfrom\u001b[39;00m \u001b[38;5;21;01mpyspark\u001b[39;00m\u001b[38;5;21;01m.\u001b[39;00m\u001b[38;5;21;01msql\u001b[39;00m\u001b[38;5;21;01m.\u001b[39;00m\u001b[38;5;21;01mfunctions\u001b[39;00m \u001b[38;5;28;01mimport\u001b[39;00m col, \u001b[38;5;28msum\u001b[39m, when, trim, regexp_replace, mean, \u001b[38;5;28mmin\u001b[39m, \u001b[38;5;28mmax\u001b[39m, count, when, percentile_approx, lit, expr, regexp_extract, \u001b[38;5;28mround\u001b[39m, translate, split, explode, first, create_map\n\u001b[0;32m      3\u001b[0m \u001b[38;5;28;01mfrom\u001b[39;00m \u001b[38;5;21;01mpyspark\u001b[39;00m\u001b[38;5;21;01m.\u001b[39;00m\u001b[38;5;21;01msql\u001b[39;00m\u001b[38;5;21;01m.\u001b[39;00m\u001b[38;5;21;01mfunctions\u001b[39;00m \u001b[38;5;28;01mimport\u001b[39;00m \u001b[38;5;28msum\u001b[39m \u001b[38;5;28;01mas\u001b[39;00m spark_sum\n\u001b[0;32m      4\u001b[0m \u001b[38;5;28;01mfrom\u001b[39;00m \u001b[38;5;21;01mpyspark\u001b[39;00m\u001b[38;5;21;01m.\u001b[39;00m\u001b[38;5;21;01msql\u001b[39;00m\u001b[38;5;21;01m.\u001b[39;00m\u001b[38;5;21;01mtypes\u001b[39;00m \u001b[38;5;28;01mimport\u001b[39;00m DoubleType, IntegerType, StringType, NumericType\n",
      "\u001b[1;31mModuleNotFoundError\u001b[0m: No module named 'pyspark'"
     ]
    }
   ],
   "source": [
    "#Importações\n",
    "from pyspark.sql.functions import col, sum, when, trim, regexp_replace, mean, min, max, count, when, percentile_approx, lit, expr, regexp_extract, round, translate, split, explode, first, create_map\n",
    "from pyspark.sql.functions import sum as spark_sum\n",
    "from pyspark.sql.types import DoubleType, IntegerType, StringType, NumericType\n",
    "from functools import reduce\n",
    "from pyspark.sql import DataFrame\n",
    "from pyspark.sql import functions as F\n",
    "from functools import reduce\n",
    "import pandas as pd\n",
    "import matplotlib.pyplot as plt\n",
    "import seaborn as sns\n",
    "import numpy as np\n",
    "import re\n",
    "from pyspark.sql.window import Window\n",
    "from itertools import chain"
   ]
  },
  {
   "cell_type": "code",
   "execution_count": null,
   "metadata": {
    "application/vnd.databricks.v1+cell": {
     "cellMetadata": {
      "byteLimit": 2048000,
      "rowLimit": 10000
     },
     "inputWidgets": {},
     "nuid": "530d3a19-624f-4200-b4d6-ffe0211bf0bd",
     "showTitle": false,
     "tableResultSettingsMap": {},
     "title": ""
    },
    "collapsed": true,
    "jupyter": {
     "outputs_hidden": true
    }
   },
   "outputs": [],
   "source": [
    "#carregar base e visualizar dados\n",
    "df_total = spark.read.csv(\"/FileStore/tables/client_credit_train.csv\", header=True, inferSchema=True)\n",
    "display(df_total)"
   ]
  },
  {
   "cell_type": "code",
   "execution_count": null,
   "metadata": {
    "application/vnd.databricks.v1+cell": {
     "cellMetadata": {
      "byteLimit": 2048000,
      "rowLimit": 10000
     },
     "inputWidgets": {},
     "nuid": "4b8567e4-ef63-4059-986d-b6ea23c84b06",
     "showTitle": false,
     "tableResultSettingsMap": {},
     "title": ""
    }
   },
   "outputs": [],
   "source": [
    "# Funções básicas\n",
    "\n",
    "# Essa função retorna os valores, repetições e % dos dados de uma coluna específica\n",
    "def get_valores(df, coluna):\n",
    "    dados = df.groupBy(coluna).count()\n",
    "    # Contagem dos valores e normalização (frequência percentual)\n",
    "    total_count = df.count()\n",
    "    dados_norm = dados.withColumn('percent', (F.col('count') / total_count) * 100)\n",
    "    df_result = dados_norm.select(coluna, 'count', 'percent').orderBy(coluna)\n",
    "    return df_result\n",
    "\n",
    "# Essa função identifica, conta e calcula a frequencia % de valores nulos de um dataframe\n",
    "def get_nulos(df):\n",
    "    df_nulos = df.select([F.sum(when(col(c).isNull(), 1).otherwise(0)).alias(c) for c in df.columns])\n",
    "    df_count = df.select([F.count(F.col(c)).alias(c) for c in df.columns])\n",
    "    \n",
    "    # Calculando o percentual de nulos diretamente\n",
    "    result = []\n",
    "    for column in df.columns:\n",
    "        nulos = df_nulos.select(column).first()[0]\n",
    "        total = df_count.select(column).first()[0]\n",
    "        percent = (nulos / total) * 100 if total > 0 else 0\n",
    "        percent_format = f\"{percent:.2f}\"\n",
    "        result.append((column, total, nulos, percent_format))\n",
    "    \n",
    "    df_final = df.sparkSession.createDataFrame(result, [\"Column\", \"Total\", \"Null_Count\", \"Null_Percentage\"])\n",
    "    return df_final\n",
    "\n",
    "# Essa função identifica os valores não numerais de uma coluna\n",
    "def get_nao_numericos(df, coluna):\n",
    "    pattern = r'\\D+'  # Qualquer caractere não numérico\n",
    "    nao_numericos = df.filter(~F.col(coluna).rlike('^[0-9]+$')).select(coluna).distinct()\n",
    "    return nao_numericos.rdd.flatMap(lambda x: x).collect()\n",
    "\n",
    "\n",
    "# Essa funlção limpa a coluna substituindo caracteres não numéricos (exceto vírgula e ponto), troca vírgula por ponto, e converte para float.\n",
    "def limpar_coluna_numerica(df, coluna):\n",
    "    df = df.withColumn(coluna, regexp_replace(col(coluna), r'[^0-9,\\.]', ''))\n",
    "    df = df.withColumn(coluna, regexp_replace(col(coluna), ',', '.'))\n",
    "    df = df.withColumn(coluna, col(coluna).cast('float'))\n",
    "    return df\n",
    "\n",
    "# Essa função retorna os valores únicos da coluna\n",
    "def get_valores_unicos(df, coluna):\n",
    "    df_unic = df.select(coluna).distinct()\n",
    "    return df_unic\n",
    "\n",
    "# Essa função retorna os valores unicos negativos\n",
    "def get_valores_negativos(df, coluna):\n",
    "    df_negativos = df.filter(col(coluna) < 0)\n",
    "    return df_negativos\n",
    "\n",
    "# Correção de valores negativos substituindo por 0\n",
    "def corrigir_valores_negativos(df, coluna):\n",
    "    df_corrigido = df.withColumn(\n",
    "        coluna,\n",
    "        when(col(coluna) < 0, 0).otherwise(col(coluna))\n",
    "    )\n",
    "    return df_corrigido\n",
    "\n",
    "# Retonar caracteres especiais de uma coluna, numérica ou não\n",
    "def get_caracteres_especiais(df, coluna):\n",
    "    return df.filter(~col(coluna).rlike(\"^[a-zA-Z0-9 .,]*$\"))\n",
    "\n",
    "# Limpa a coluna com caracteres especiais\n",
    "def limpar_caracteres_especiais(df, coluna):\n",
    "    df = df.withColumn(coluna, regexp_replace(col(coluna), r'[\"\"\"\\'`]', ''))\n",
    "    df = df.withColumn(coluna, regexp_replace(col(coluna), r'[^a-zA-Z0-9 .-]', ''))\n",
    "    return df\n",
    "\n",
    "# Padronizar valor colocando a moda entre os demais registros de um mesmo cliente\n",
    "def padronizar(df, id_col, target_col):\n",
    "    # Calcular a moda (idade mais frequente) por Customer_ID\n",
    "    moda = (\n",
    "        df.groupBy(id_col, target_col)\n",
    "        .count()\n",
    "        .withColumn(\"rank\", F.row_number().over(Window.partitionBy(id_col).orderBy(F.desc(\"count\"))))\n",
    "        .filter(F.col(\"rank\") == 1)\n",
    "        .select(id_col, F.col(target_col).alias(\"moda\"))\n",
    "    )\n",
    "    # Juntar com o dataframe original\n",
    "    df_corrigido = (\n",
    "        df.join(moda, on=id_col, how=\"left\")\n",
    "        .withColumn(\n",
    "            target_col,\n",
    "            F.when(F.col(target_col) != F.col(\"moda\"), F.col(\"moda\")).otherwise(F.col(target_col))\n",
    "        )\n",
    "        .drop(\"moda\")\n",
    "    )\n",
    "    return df_corrigido\n",
    "\n",
    "# Essa função arredonda valores double para 2 casas decimais após a vírgula\n",
    "def arredondar_coluna(df, coluna):\n",
    "    df_arredondado = df.withColumn(coluna, round(col(coluna), 2))\n",
    "    return df_arredondado\n",
    "\n",
    "# Função para dividir e criar novas colunas a partir de um registro separados por vírgula\n",
    "def expandir_loans(df, coluna):\n",
    "    # 1 - remover espaços e vírgulas duplicadas\n",
    "    df_limpo = df.withColumn(\n",
    "        coluna,\n",
    "        regexp_replace(col(coluna), \" and \", \", \")\n",
    "    ) \n",
    "    # 2 - eparar os valores em uma lista, temporariamente\n",
    "    df_separado = df_limpo.withColumn(\n",
    "        \"loan_list\",\n",
    "        split(col(coluna), \",\")\n",
    "    )\n",
    "    # 3 explodir para pegar cada valor individualmente\n",
    "    df_explodido = df_separado.withColumn(\"loan_type\", explode(\"loan_list\"))\n",
    "    # 4 - remover espaços em branco ao redor\n",
    "    df_explodido = df_explodido.withColumn(\"loan_type\", trim(col(\"loan_type\")))\n",
    "    # 5 - pegar a lista de tipos únicos\n",
    "    tipos_unicos = [row[\"loan_type\"] for row in df_explodido.select(\"loan_type\").distinct().filter(col(\"loan_type\").isNotNull()).collect()]\n",
    "    # 6 - para cada tipo, criar uma nova coluna\n",
    "    df_final = df_separado\n",
    "    for tipo in tipos_unicos:\n",
    "        df_final = df_final.withColumn(\n",
    "            tipo.replace(\" \", \"_\"),  # Nome da coluna sem espaços\n",
    "            F.when(F.array_contains(split(col(coluna), \",\"), tipo), lit(1)).otherwise(lit(0))\n",
    "        )\n",
    "    return df_final\n",
    "\n",
    "    # Essa função calcula os limites IQR para identificar os outliers\n",
    "def calcular_limites_iqr(df, colunas):\n",
    "    limites = []\n",
    "    for coluna in colunas:\n",
    "        q1, q3 = df.approxQuantile(coluna, [0.25, 0.75], 0.01)\n",
    "        iqr = q3 - q1\n",
    "        limite_inferior = q1 - 1.5 * iqr\n",
    "        limite_superior = q3 + 1.5 * iqr\n",
    "        limites.append((coluna, q1, q3, limite_inferior, limite_superior))\n",
    "    return limites\n",
    "\n",
    "# Essa função especifica remove alguns outlears \n",
    "def remover_outliers(df):\n",
    "    df = df.filter(df[\"Interest_Rate\"] <= 38)\n",
    "    df = df.filter(df[\"Num_Credit_Card\"] <= 11.5)\n",
    "    df = df.filter(df[\"Num_Bank_Accounts\"] <= 13)\n",
    "    df = df.filter(df[\"Num_Credit_Inquiries\"] <= 15.5)\n",
    "    return df\n",
    "\n",
    "# Essa fução substitui os valores da coluna Payment_Behaviour\n",
    "def substituir_payment_behaviour_por_id(df):\n",
    "    mapping = {\n",
    "        \"Low_spent_Small_value_payments\": 0,\n",
    "        \"High_spent_Medium_value_payments\": 1,\n",
    "        \"High_spent_Small_value_payments\": 2,\n",
    "        \"Low_spent_Large_value_payments\": 3,\n",
    "        \"Low_spent_Medium_value_payments\": 4,\n",
    "        \"High_spent_Large_value_payments\": 5\n",
    "    }\n",
    "\n",
    "    map_expr = create_map([lit(k) if i % 2 == 0 else lit(v)\n",
    "                           for i, (k, v) in enumerate(mapping.items(), 0)])\n",
    "    \n",
    "    df = df.withColumn(\"Payment_Behaviour\", map_expr[col(\"Payment_Behaviour\")])\n",
    "    return df\n",
    "\n",
    "\n"
   ]
  },
  {
   "cell_type": "code",
   "execution_count": null,
   "metadata": {
    "application/vnd.databricks.v1+cell": {
     "cellMetadata": {
      "byteLimit": 2048000,
      "implicitDf": true,
      "rowLimit": 10000
     },
     "inputWidgets": {},
     "nuid": "938bd48d-320c-4db3-b037-2b62218f26c0",
     "showTitle": false,
     "tableResultSettingsMap": {},
     "title": ""
    }
   },
   "outputs": [],
   "source": [
    "# Diagnóstico Inicial do DataFrame\n",
    "\n",
    "# Ver estrutura e tipos das colunas\n",
    "print(\"\\n Estrutura do DataFrame:\")\n",
    "df_total.printSchema()\n",
    "\n",
    "# Ver número de linhas e colunas\n",
    "linhas = df_total.count()\n",
    "colunas = len(df_total.columns)\n",
    "print(f\"\\n Dimensões do DataFrame: {linhas} linhas x {colunas} colunas\")\n",
    "\n",
    "# Verificar valores nulos por coluna\n",
    "print(\"\\n Valores pela função\")\n",
    "df_nulos = get_nulos(df_total)\n",
    "df_nulos.show(27)\n",
    "\n",
    "# Verificar valores em branco por coluna (strings vazias)\n",
    "print(\" Valores em Branco ('') por Coluna:\")\n",
    "df_total.select([\n",
    "    sum(when(trim(col(c)) == \"\", 1).otherwise(0)).alias(c)\n",
    "    for c in df_total.columns\n",
    "]).show()\n",
    "\n",
    "# Verificar registros duplicados\n",
    "print(\"\\n Total de registros duplicados:\")\n",
    "duplicados = df_total.groupBy(df_total.columns).count().filter(\"count > 1\").count()\n",
    "print(f\"{duplicados} registros duplicados encontrados.\")\n"
   ]
  },
  {
   "cell_type": "code",
   "execution_count": null,
   "metadata": {
    "application/vnd.databricks.v1+cell": {
     "cellMetadata": {
      "byteLimit": 2048000,
      "rowLimit": 10000
     },
     "inputWidgets": {},
     "nuid": "a594cc82-9621-4cc1-9424-80d161208896",
     "showTitle": false,
     "tableResultSettingsMap": {},
     "title": ""
    }
   },
   "outputs": [],
   "source": [
    "# Verificar valores únicos de cada coluna.\n",
    "\n",
    "print(\"Valores unicos de cada coluna:\")\n",
    "for c in df_total.columns:\n",
    "    print(f\"Coluna: {c}\")\n",
    "    get_valores_unicos(df_total, c).show(truncate=False)"
   ]
  },
  {
   "cell_type": "code",
   "execution_count": null,
   "metadata": {
    "application/vnd.databricks.v1+cell": {
     "cellMetadata": {
      "byteLimit": 2048000,
      "implicitDf": true,
      "rowLimit": 10000
     },
     "inputWidgets": {},
     "nuid": "946adf67-c3d3-48ad-bce2-012a0b8d15e4",
     "showTitle": false,
     "tableResultSettingsMap": {},
     "title": ""
    }
   },
   "outputs": [],
   "source": [
    "# Conversão de colunas que deveriam ser numéricas e valores de String para double\n",
    "colunas_para_converter = {\n",
    "    \"Age\": IntegerType(),\n",
    "    \"Annual_Income\": DoubleType(),\n",
    "    \"Outstanding_Debt\": DoubleType(),\n",
    "    \"Changed_Credit_Limit\": DoubleType(),\n",
    "    \"Num_of_Delayed_Payment\": IntegerType(),\n",
    "    \"Amount_invested_monthly\": DoubleType(),\n",
    "    \"Monthly_Balance\": DoubleType(),\n",
    "    \"Num_of_Loan\": IntegerType(),\n",
    "    \"Num_Credit_Inquiries\": IntegerType()\n",
    "}\n",
    "\n",
    "# Limpeza de caracteres inválidos e conversão de tipo\n",
    "for coluna, tipo in colunas_para_converter.items():\n",
    "    df_total = limpar_coluna_numerica(df_total, coluna)\n",
    "    df_total = df_total.withColumn(coluna, col(coluna).cast(tipo))\n",
    "\n",
    "# Verificando novamente os tipos após conversão\n",
    "df_total.printSchema()\n",
    "\n",
    "# Dados após limpeza\n",
    "df_total.select(list(colunas_para_converter.keys())).show(5)\n"
   ]
  },
  {
   "cell_type": "code",
   "execution_count": null,
   "metadata": {
    "application/vnd.databricks.v1+cell": {
     "cellMetadata": {
      "byteLimit": 2048000,
      "implicitDf": true,
      "rowLimit": 10000
     },
     "inputWidgets": {},
     "nuid": "8a01418b-c9af-43cc-999e-2073452ebbd3",
     "showTitle": false,
     "tableResultSettingsMap": {},
     "title": ""
    }
   },
   "outputs": [],
   "source": [
    "# Corrigir valores nulos nas colunas numéricas (exceto Credit_History_Age e Age pois serão tratadas posteriormente)\n",
    "colunas_numericas = [\n",
    "    \"Monthly_Inhand_Salary\",\n",
    "    \"Num_of_Delayed_Payment\",\n",
    "    \"Changed_Credit_Limit\",\n",
    "    \"Num_Credit_Inquiries\",\n",
    "    \"Amount_invested_monthly\",\n",
    "    \"Monthly_Balance\"\n",
    "]\n",
    "\n",
    "# Lista para armazenar os resultados\n",
    "resultados = []\n",
    "\n",
    "# Loop para calcular estatísticas\n",
    "for coluna in colunas_numericas:\n",
    "    resumo = df_total.select(\n",
    "        col(coluna).cast(\"double\").alias(coluna)\n",
    "    ).agg(\n",
    "        count(coluna).alias(\"total_registros\"),\n",
    "        count(when(col(coluna).isNull(), True)).alias(\"nulos\"),\n",
    "        mean(coluna).alias(\"media\"),\n",
    "        percentile_approx(coluna, 0.5, 100).alias(\"mediana\"),\n",
    "        min(coluna).alias(\"minimo\"),\n",
    "        max(coluna).alias(\"maximo\")\n",
    "    ).withColumn(\"coluna\", lit(coluna))\n",
    "\n",
    "    resultados.append(resumo)\n",
    "\n",
    "# União dos resultados\n",
    "estatisticas_df = reduce(DataFrame.unionByName, resultados)\n",
    "\n",
    "# Reordena as colunas para visualização\n",
    "estatisticas_df = estatisticas_df.select(\"coluna\", \"total_registros\", \"nulos\", \"media\", \"mediana\", \"minimo\", \"maximo\")\n",
    "\n",
    "# Exibe a tabela de estatísticas\n",
    "estatisticas_df.orderBy(\"coluna\").show(truncate=False)\n"
   ]
  },
  {
   "cell_type": "code",
   "execution_count": null,
   "metadata": {
    "application/vnd.databricks.v1+cell": {
     "cellMetadata": {
      "byteLimit": 2048000,
      "rowLimit": 10000
     },
     "inputWidgets": {},
     "nuid": "eeea3ed2-f3d7-4b78-8448-38d113135a22",
     "showTitle": false,
     "tableResultSettingsMap": {},
     "title": ""
    },
    "collapsed": true,
    "jupyter": {
     "outputs_hidden": true
    }
   },
   "outputs": [],
   "source": [
    "# Calcular a mediana de cada coluna usando percentile_approx (equivalente ao 50º percentil) das colunas numéricas acima\n",
    "medianas = {\n",
    "    coluna: df_total.select(percentile_approx(coluna, 0.5).alias(\"mediana\")).first()[\"mediana\"]\n",
    "    for coluna in colunas_numericas\n",
    "}\n",
    "\n",
    "# Substituir nulos pela mediana correspondente\n",
    "for coluna in colunas_numericas:\n",
    "    mediana = medianas[coluna]\n",
    "    df_total = df_total.withColumn(\n",
    "        coluna,\n",
    "        when(col(coluna).isNull(), mediana).otherwise(col(coluna))\n",
    "    )"
   ]
  },
  {
   "cell_type": "code",
   "execution_count": null,
   "metadata": {
    "application/vnd.databricks.v1+cell": {
     "cellMetadata": {
      "byteLimit": 2048000,
      "rowLimit": 10000
     },
     "inputWidgets": {},
     "nuid": "62e9e60d-a927-4830-ad8a-feaa704e774e",
     "showTitle": false,
     "tableResultSettingsMap": {},
     "title": ""
    }
   },
   "outputs": [],
   "source": [
    "# Corrigir valores nulos nas colunas String\n",
    "colunas_string = [f.name for f in df_total.schema.fields if isinstance(f.dataType, StringType)]\n",
    "\n",
    "# Substituir valores nulos por \"NA\" nessas colunas\n",
    "for coluna in colunas_string:\n",
    "    df_total = df_total.withColumn(\n",
    "        coluna,\n",
    "        when(col(coluna).isNull(), \"NA\").otherwise(col(coluna))\n",
    "    )\n"
   ]
  },
  {
   "cell_type": "code",
   "execution_count": null,
   "metadata": {
    "application/vnd.databricks.v1+cell": {
     "cellMetadata": {
      "byteLimit": 2048000,
      "rowLimit": 10000
     },
     "inputWidgets": {},
     "nuid": "4e1ae4ff-7f13-4999-9888-2e737623260f",
     "showTitle": false,
     "tableResultSettingsMap": {},
     "title": ""
    }
   },
   "outputs": [],
   "source": [
    "# Verificação se há nulos por coluna\n",
    "get_nulos(df_total).show(27)"
   ]
  },
  {
   "cell_type": "code",
   "execution_count": null,
   "metadata": {
    "application/vnd.databricks.v1+cell": {
     "cellMetadata": {
      "byteLimit": 2048000,
      "rowLimit": 10000
     },
     "inputWidgets": {},
     "nuid": "a00d0693-22ad-4c15-8f3c-b92d2c9caad1",
     "showTitle": false,
     "tableResultSettingsMap": {},
     "title": ""
    }
   },
   "outputs": [],
   "source": [
    "# A coluna \"Name\" foi verificado se há repetição ou valores \"padronizados\" como N/A ou *, pela frequencia de informações esta é uma variável \n",
    "# quantitativa.\n",
    "\n",
    "# Verificando valores únicos e com caracteres especiais\n",
    "df_name = get_valores(df_total, \"Name\")\n",
    "df_name.orderBy(col(\"percent\").desc()).show(truncate=False)\n",
    "get_valores_unicos(df_total, \"Name\").show()\n",
    "display(get_caracteres_especiais(df_total, \"Name\"))\n",
    "\n",
    "# Janela particionada por cliente, ordenada (aqui usamos arbitrariamente por nenhuma coluna específica)\n",
    "window_spec = Window.partitionBy(\"Customer_ID\").rowsBetween(Window.unboundedPreceding, Window.unboundedFollowing)\n",
    "\n",
    "# Padronizar nomes\n",
    "df_total = padronizar(df_total, \"Customer_ID\", \"Name\")\n",
    "\n",
    "#Existem diversos valores que destoam do normal, vamos manter o . e o -, os demais vão ser limpos\n",
    "df_total = limpar_caracteres_especiais(df_total, \"Name\")\n",
    "\n",
    "# Verificação após o tratamento\n",
    "display(get_caracteres_especiais(df_total, \"Name\"))"
   ]
  },
  {
   "cell_type": "code",
   "execution_count": null,
   "metadata": {
    "application/vnd.databricks.v1+cell": {
     "cellMetadata": {
      "byteLimit": 2048000,
      "rowLimit": 10000
     },
     "inputWidgets": {},
     "nuid": "1c112e6a-e132-41ed-940e-b48bf90cda42",
     "showTitle": false,
     "tableResultSettingsMap": {},
     "title": ""
    }
   },
   "outputs": [],
   "source": [
    "# A coluna Age tem outliers fácilmente identificáveis, aqui estamos filtrando os valores menores que 90 anos e substituindo\n",
    "# pela mediana, nesse caso não há regra de negócio que trate isso, porém, pode ser identificado como fralde a movimentação desse\n",
    "# titular em compras recorrentes, esta é uma coluna qualitativa.\n",
    "\n",
    "# Verificando registros\n",
    "df_age = get_valores(df_total, \"Age\")\n",
    "df_age.orderBy(col(\"percent\").desc()).show(truncate=False)\n",
    "\n",
    "# Identificando os registros com idade maior que 90 anos\n",
    "outliers_age = df_total.filter(col(\"Age\") > 90)\n",
    "print(f\"Quantidade de outliers: {outliers_age.count()}\")\n",
    "display(df_total.filter(col(\"Customer_ID\") == \"CUS_0x39ce\")) # Um cliente exemplo\n",
    "\n",
    "\n",
    "# Vamos aplicar a padronização com a moda com os registros do mesmo cliente. Exemplo: o cliente possui um registro em agosto com a idade de 29 e outro registro em dezembro com a idade 455, vamos usar a moda para padronizar esses valores.\n",
    "df_total = padronizar(df_total, \"Customer_ID\", \"Age\")\n",
    "display(df_total.filter(col(\"Customer_ID\") == \"CUS_0x39ce\"))\n",
    "\n",
    "# Calcular a mediana de Age para os valores que não foram contemplados com a padronização.\n",
    "mediana_age = df_total.select(\n",
    "    percentile_approx(\"Age\", 0.5, 100).alias(\"mediana\")\n",
    ").collect()[0][\"mediana\"]\n",
    "\n",
    "print(f\"A mediana: {mediana_age}\")\n",
    "\n",
    "# Substituir valores maiores que 90 pela mediana\n",
    "df_total = df_total.withColumn(\n",
    "    \"Age\",\n",
    "    when(col(\"Age\") > 90, lit(mediana_age)).otherwise(col(\"Age\"))\n",
    ")\n",
    "\n",
    "# Verificação após tratamento\n",
    "df_total.filter(col(\"Age\") > 90).show()\n"
   ]
  },
  {
   "cell_type": "code",
   "execution_count": null,
   "metadata": {
    "application/vnd.databricks.v1+cell": {
     "cellMetadata": {
      "byteLimit": 2048000,
      "rowLimit": 10000
     },
     "inputWidgets": {},
     "nuid": "c8b11c21-df9c-4eb1-80e7-73cce29c2fac",
     "showTitle": false,
     "tableResultSettingsMap": {},
     "title": ""
    }
   },
   "outputs": [],
   "source": [
    "# Na coluna SSN existem valores com caracteres especiais, vamos substituilos por NA. SSN é uma variavel quantitativa, como um CPF, essa é uma coluna qualitativa.\n",
    "\n",
    "# Verificando valores\n",
    "get_valores_unicos(df_total, \"SSN\").show()\n",
    "df_ssn = get_valores(df_total, \"SSN\")\n",
    "df_ssn.orderBy(col(\"percent\").desc()).show(truncate=False)\n",
    "\n",
    "# Aplicar a padronização de acordo com o Customer_ID\n",
    "df_ssn = df_total.filter(col(\"SSN\") == \"#F%$D@*&8\")\n",
    "print(f\"Quantidade de outliers: {df_ssn.count()}\")\n",
    "display(df_ssn)\n",
    "df_total = padronizar(df_total, \"Customer_ID\", \"SSN\")\n",
    "display(df_total.filter(col(\"SSN\") == \"#F%$D@*&8\"))\n",
    "\n",
    "# Substituir os \"#F%$D@*&8\" que não foram contemplados pela padronização por \"NA\"\n",
    "df_total = df_total.withColumn(\"SSN\", when(col(\"SSN\") == \"#F%$D@*&8\", \"NA\").otherwise(col(\"SSN\")))\n",
    "\n",
    "print(\"\\n Verificação de valores #F%$D@*&8: \")\n",
    "display(df_total.filter(df_total[\"SSN\"]== \"#F%$D@*&8\").count())"
   ]
  },
  {
   "cell_type": "code",
   "execution_count": null,
   "metadata": {
    "application/vnd.databricks.v1+cell": {
     "cellMetadata": {
      "byteLimit": 2048000,
      "rowLimit": 10000
     },
     "inputWidgets": {},
     "nuid": "439353aa-e0a4-4710-b36e-799c4a83dd4a",
     "showTitle": false,
     "tableResultSettingsMap": {},
     "title": ""
    }
   },
   "outputs": [],
   "source": [
    "# Na coluna Occupation fornece um contexto demográfico e financeiro importante, visto que diferentes ocupações costumam ter diferentes níveis de renda, hábitos de consumo e perfis de risco, que são cruciais para a pontuação de crédito e outras análises financeiras. Existem valores \"______\" onde subsentende que representa o NA, essa coluna é definida como qualitativa.\n",
    "\n",
    "# Verificando valores\n",
    "df_occu = get_valores(df_total, \"Occupation\")\n",
    "df_occu.orderBy(col(\"percent\").desc()).show(truncate=False)\n",
    "get_valores_unicos(df_total, \"Occupation\").show()\n",
    "\n",
    "# Contar quantos registros têm na Occupation o valor \"_______\"\n",
    "display(df_total.filter(df_total[\"Occupation\"]== \"_______\").count())\n",
    "\n",
    "# Substituindo \"_______\" por \"NA\"\n",
    "df_total = df_total.withColumn(\n",
    "    \"Occupation\",\n",
    "    when(col(\"Occupation\")== \"_______\", \"NA\").otherwise(col(\"Occupation\"))\n",
    ")\n",
    "\n",
    "# Verificar valores após tratamento\n",
    "display(df_total.filter(df_total[\"Occupation\"]== \"_______\").count())"
   ]
  },
  {
   "cell_type": "code",
   "execution_count": null,
   "metadata": {
    "application/vnd.databricks.v1+cell": {
     "cellMetadata": {
      "byteLimit": 2048000,
      "rowLimit": 10000
     },
     "inputWidgets": {},
     "nuid": "c82a4a88-f872-4505-a25f-32d5618b5a04",
     "showTitle": false,
     "tableResultSettingsMap": {},
     "title": ""
    }
   },
   "outputs": [],
   "source": [
    "# Na coluna Annual_Income representa a renda total que um cliente ganha em um ano. Esse valor é um indicador crucial da estabilidade financeira geral do cliente e de sua capacidade de pagar empréstimos ou administrar outras obrigações financeiras. Os valores nulos já foram corrigidos apenas precisamos arredondar o valor double para 2 casas decimais, essa coluna é definida como quantitativa\n",
    "\n",
    "# Verificando valores\n",
    "df_ani = get_valores(df_total, \"Annual_Income\")\n",
    "df_ani.orderBy(col(\"percent\").desc()).show(truncate=False)\n",
    "get_valores_unicos(df_total, \"Annual_Income\").show(50)\n",
    "\n",
    "# Verificando se há valores negativos\n",
    "get_valores_negativos(df_total, \"Annual_Income\").show()\n",
    "\n",
    "# Visualizar dados após tratamento\n",
    "get_valores_unicos(df_total, \"Annual_Income\").show(50)\n",
    "\n",
    "display(df_total)"
   ]
  },
  {
   "cell_type": "code",
   "execution_count": null,
   "metadata": {
    "application/vnd.databricks.v1+cell": {
     "cellMetadata": {
      "byteLimit": 2048000,
      "rowLimit": 10000
     },
     "inputWidgets": {},
     "nuid": "802f614d-a9ad-45e4-9794-fc8bee472759",
     "showTitle": false,
     "tableResultSettingsMap": {},
     "title": ""
    }
   },
   "outputs": [],
   "source": [
    "# Na coluna Monthly_Inhand_Salary representa o valor do salário que um cliente. Este é o salário líquido que o cliente leva para casa mensalmente e pode ser um indicador importante da renda disponível e da capacidade financeira do cliente. precisamos arredondar o valor double para 2 casas decimais, essa coluna também é uma coluna quantitativa\n",
    "\n",
    "# Verificando valores\n",
    "df_ani = get_valores(df_total, \"Monthly_Inhand_Salary\")\n",
    "df_ani.orderBy(col(\"percent\").desc()).show(truncate=False)\n",
    "get_valores_unicos(df_total, \"Monthly_Inhand_Salary\").show(50)\n",
    "get_caracteres_especiais(df_total, \"Monthly_Inhand_Salary\").show()\n",
    "\n",
    "# Verificando se há valores negativos\n",
    "get_valores_negativos(df_total, \"Monthly_Inhand_Salary\").show()\n",
    "\n",
    "# Visualizar dados após tratamento\n",
    "get_valores_unicos(df_total, \"Monthly_Inhand_Salary\").show(50)\n",
    "\n",
    "display(df_total)"
   ]
  },
  {
   "cell_type": "code",
   "execution_count": null,
   "metadata": {
    "application/vnd.databricks.v1+cell": {
     "cellMetadata": {
      "byteLimit": 2048000,
      "rowLimit": 10000
     },
     "inputWidgets": {},
     "nuid": "54c8ee7e-5177-4015-9e46-5b4bd629b810",
     "showTitle": false,
     "tableResultSettingsMap": {},
     "title": ""
    }
   },
   "outputs": [],
   "source": [
    "# Na coluna Num_Bank_Accounts representa o número de contas bancárias que um cliente possui. Ao analisar os dados, foi identificado um valor incomum de -1. Como não é possível ter um número negativo de contas bancárias, esse valor provavelmente representa dados ausentes ou desconhecidos.\n",
    "\n",
    "# Verificando valores\n",
    "df_nbank = get_valores(df_total, \"Num_Bank_Accounts\")\n",
    "df_nbank.orderBy(col(\"percent\").desc()).show(truncate=False)\n",
    "get_valores_unicos(df_total, \"Num_Bank_Accounts\").show(50)\n",
    "\n",
    "# Verificando se há valores negativos\n",
    "get_valores_negativos(df_total, \"Num_Bank_Accounts\").show()\n",
    "\n",
    "# Corrigindo os valores negativos\n",
    "df_total = corrigir_valores_negativos(df_total, \"Num_Bank_Accounts\")\n",
    "\n",
    "# Visualizar dados após tratamento\n",
    "get_valores_unicos(df_total, \"Num_Bank_Accounts\").show(50)\n",
    "get_valores_negativos(df_total, \"Num_Bank_Accounts\").show()"
   ]
  },
  {
   "cell_type": "code",
   "execution_count": null,
   "metadata": {
    "application/vnd.databricks.v1+cell": {
     "cellMetadata": {
      "byteLimit": 2048000,
      "rowLimit": 10000
     },
     "inputWidgets": {},
     "nuid": "20191283-964e-4f94-842e-b74506cdbfd2",
     "showTitle": false,
     "tableResultSettingsMap": {},
     "title": ""
    }
   },
   "outputs": [],
   "source": [
    "# Na coluna Num_Credit_Card representa a quantidade de cartões de crédito de um cliente, característica importante para categorização do cliete. Essa coluna é uma coluna qualitativa, semelhante à coluna anterior\n",
    "\n",
    "# Verificando valores\n",
    "df_nbank = get_valores(df_total, \"Num_Credit_Card\")\n",
    "df_nbank.orderBy(col(\"percent\").desc()).show(truncate=False)\n",
    "get_valores_unicos(df_total, \"Num_Credit_Card\").show(50)\n",
    "\n",
    "# Verificando se há valores negativos\n",
    "get_valores_negativos(df_total, \"Num_Credit_Card\").show()\n",
    "\n",
    "# Corrigindo os valores negativos\n",
    "df_total = corrigir_valores_negativos(df_total, \"Num_Credit_Card\")\n",
    "\n",
    "# Visualizar dados após tratamento\n",
    "get_valores_unicos(df_total, \"Num_Credit_Card\").show(50)\n",
    "get_valores_negativos(df_total, \"Num_Credit_Card\").show()"
   ]
  },
  {
   "cell_type": "code",
   "execution_count": null,
   "metadata": {
    "application/vnd.databricks.v1+cell": {
     "cellMetadata": {
      "byteLimit": 2048000,
      "rowLimit": 10000
     },
     "inputWidgets": {},
     "nuid": "ee58ac64-a3c8-4da1-985e-f4e35ae678ab",
     "showTitle": false,
     "tableResultSettingsMap": {},
     "title": ""
    }
   },
   "outputs": [],
   "source": [
    "# Na coluna Interest_Rate representa a taxa de juros aplicada aos empréstimos ou créditos tomados pelo cliente. Ela fornece informações cruciais sobre o custo do empréstimo para cada cliente. Essa coluna é uma coluna quantitativa\n",
    "\n",
    "# Verificando valores\n",
    "df_nbank = get_valores(df_total, \"Interest_Rate\")\n",
    "df_nbank.orderBy(col(\"percent\").desc()).show(truncate=False)\n",
    "get_valores_unicos(df_total, \"Interest_Rate\").show(50)\n",
    "\n",
    "# Verificando se há valores negativos\n",
    "get_valores_negativos(df_total, \"Interest_Rate\").show()\n",
    "\n",
    "# Corrigindo os valores negativos\n",
    "df_total = corrigir_valores_negativos(df_total, \"Interest_Rate\")\n",
    "\n",
    "# Visualizar dados após tratamento\n",
    "get_valores_unicos(df_total, \"Interest_Rate\").show(50)\n",
    "get_valores_negativos(df_total, \"Interest_Rate\").show()"
   ]
  },
  {
   "cell_type": "code",
   "execution_count": null,
   "metadata": {
    "application/vnd.databricks.v1+cell": {
     "cellMetadata": {
      "byteLimit": 2048000,
      "rowLimit": 10000
     },
     "inputWidgets": {},
     "nuid": "7b5c57c3-309d-4108-ba40-10bec8aa27f3",
     "showTitle": false,
     "tableResultSettingsMap": {},
     "title": ""
    }
   },
   "outputs": [],
   "source": [
    "\n",
    "# Na coluna Num_of_Loan correspondente a quantidade de emprestimos, dado importante para categorização do cliente, existem valores com caracteres especiais e negativos, essa é uma coluna quantitativa\n",
    "\n",
    "# Verificando valores\n",
    "df_nbank = get_valores(df_total, \"Num_of_Loan\")\n",
    "df_nbank.orderBy(col(\"percent\").desc()).show(truncate=False)\n",
    "get_valores_unicos(df_total, \"Num_of_Loan\").show()\n",
    "\n",
    "# Verificar valores com caractere especial\n",
    "display(get_caracteres_especiais(df_total, \"Num_of_Loan\"))\n",
    "\n",
    "# Verificar valores negativos\n",
    "display(get_valores_negativos(df_total, \"Num_of_Loan\"))\n",
    "\n",
    "# Corrigir valores com caractere especial\n",
    "df_total = limpar_caracteres_especiais(df_total, \"Num_of_Loan\")\n",
    "\n",
    "# Corrigir valores negativos\n",
    "df_total = corrigir_valores_negativos(df_total, \"Num_of_Loan\")\n",
    "\n",
    "# Visualizar dados após tratamento\n",
    "display(get_caracteres_especiais(df_total, \"Num_of_Loan\"))\n",
    "display(get_valores_negativos(df_total, \"Num_of_Loan\"))"
   ]
  },
  {
   "cell_type": "code",
   "execution_count": null,
   "metadata": {
    "application/vnd.databricks.v1+cell": {
     "cellMetadata": {
      "byteLimit": 2048000,
      "rowLimit": 10000
     },
     "inputWidgets": {},
     "nuid": "7822cbed-1027-4cd7-bd02-593be25e31b3",
     "showTitle": false,
     "tableResultSettingsMap": {},
     "title": ""
    }
   },
   "outputs": [],
   "source": [
    "# Backup do dataframe\n",
    "df_total_bck_type_loan = df_total"
   ]
  },
  {
   "cell_type": "code",
   "execution_count": null,
   "metadata": {
    "application/vnd.databricks.v1+cell": {
     "cellMetadata": {
      "byteLimit": 2048000,
      "rowLimit": 10000
     },
     "inputWidgets": {},
     "nuid": "a785bdcd-b7ad-4cb2-bb3d-9c93c06e61b3",
     "showTitle": false,
     "tableResultSettingsMap": {},
     "title": ""
    }
   },
   "outputs": [],
   "source": [
    "# Reset do dataframe\n",
    "#df_total = df_total_bck_type_loan"
   ]
  },
  {
   "cell_type": "code",
   "execution_count": null,
   "metadata": {
    "application/vnd.databricks.v1+cell": {
     "cellMetadata": {
      "byteLimit": 2048000,
      "rowLimit": 10000
     },
     "inputWidgets": {},
     "nuid": "d3946e6f-c4ce-467f-ab47-4350e6420cd8",
     "showTitle": false,
     "tableResultSettingsMap": {},
     "title": ""
    }
   },
   "outputs": [],
   "source": [
    "# Na coluna Type_of_Loan representa o(s) tipo(s) específico(s) de empréstimo que um cliente contratou. Essas informações ajudam a categorizar os diferentes produtos de empréstimo que um cliente pode ter e podem ser usadas para entender seu comportamento ou preferências financeiras. Precisei criar uma nova coluna para cada registro, pois os mesmos estavam agrupados em valores separados por \",\" são importantes pois definem o tipo do emprestimo contratado, coluna categorica.\n",
    "\n",
    "# Verificando valores\n",
    "df_type = get_valores(df_total, \"Type_of_Loan\")\n",
    "df_type.orderBy(col(\"percent\").desc()).show(truncate=False)\n",
    "get_valores_unicos(df_total, \"Type_of_Loan\").show()\n",
    "\n",
    "# Antes de expandir a coluna precisamos padroniza-las retirando os espaços em branco e o conector \"and\"\n",
    "df_total = df_total.withColumn(\"Type_of_Loan\", regexp_replace(col(\"Type_of_Loan\"), \"and\", \"\"))\n",
    "df_total = df_total.withColumn(\"Type_of_Loan\", regexp_replace(col(\"Type_of_Loan\"), \" \", \"\"))\n",
    "display(get_caracteres_especiais(df_total, \"Type_of_Loan\"))\n",
    "\n",
    "# Criando as novas colunas e populando elas com inteiros\n",
    "df_total = expandir_loans(df_total, \"Type_of_Loan\")\n",
    "\n",
    "# Verificação após o tratamento\n",
    "get_valores_unicos(df_total, \"Type_of_Loan\").show()\n",
    "display(df_total)\n"
   ]
  },
  {
   "cell_type": "code",
   "execution_count": null,
   "metadata": {
    "application/vnd.databricks.v1+cell": {
     "cellMetadata": {
      "byteLimit": 2048000,
      "rowLimit": 10000
     },
     "inputWidgets": {},
     "nuid": "ddb414c8-8818-48ae-ac14-690213b7ee15",
     "showTitle": false,
     "tableResultSettingsMap": {},
     "title": ""
    }
   },
   "outputs": [],
   "source": [
    "# Na coluna Num_of_Loan há uma diferença de acordo com o Type_of_Loan, exemplos há linhas que contém \"0\" na Num_of_loan mas existem 3 Type_of_loan registrados, com as novas colunas criadas conseguimos realizar um somatório do tipo e totalizar na coluna Num_of_Loan o valor correto.\n",
    "\n",
    "display(df_total.filter(col(\"SSN\") == \"473-91-5845\"))\n",
    "\n",
    "# Lista das colunas que representam os tipos de empréstimos\n",
    "tipo_emprestimos = [\n",
    "    \"PersonalLoan\", \"MortgageLoan\", \"AutoLoan\", \"NotSpecified\", \"PaydayLoan\",\n",
    "    \"HomeEquityLoan\", \"StudentLoan\", \"DebtConsolidationLoan\", \"Credit-BuilderLoan\"\n",
    "]\n",
    "\n",
    "# Soma das colunas para atualizar a coluna Num_of_Loan\n",
    "df_total = df_total.withColumn(\n",
    "    \"Num_of_Loan\",\n",
    "    reduce(lambda a, b: a + b, [col(c) for c in tipo_emprestimos])\n",
    ")\n",
    "\n",
    "# Verificação após tratamento\n",
    "display(df_total.filter(col(\"SSN\") == \"473-91-5845\"))\n"
   ]
  },
  {
   "cell_type": "code",
   "execution_count": null,
   "metadata": {
    "application/vnd.databricks.v1+cell": {
     "cellMetadata": {
      "byteLimit": 2048000,
      "rowLimit": 10000
     },
     "inputWidgets": {},
     "nuid": "e342ec87-7922-436d-9612-f51d8aa27c66",
     "showTitle": false,
     "tableResultSettingsMap": {},
     "title": ""
    }
   },
   "outputs": [],
   "source": [
    "# Na coluna Delay_from_due_date representa o número de dias em que um pagamento está atrasado, o que é um indicador crítico do comportamento de pagamento e da responsabilidade financeira do cliente. É uma informação quantitativa, há valores negativos porém vou considerar como pagamentos adiantados\n",
    "\n",
    "# Verificando valores\n",
    "df_type = get_valores(df_total, \"Delay_from_due_date\")\n",
    "df_type.orderBy(col(\"percent\").desc()).show(truncate=False)\n",
    "display(get_caracteres_especiais(df_total, \"Delay_from_due_date\"))"
   ]
  },
  {
   "cell_type": "code",
   "execution_count": null,
   "metadata": {
    "application/vnd.databricks.v1+cell": {
     "cellMetadata": {
      "byteLimit": 2048000,
      "rowLimit": 10000
     },
     "inputWidgets": {},
     "nuid": "671b961c-20f3-4048-b473-12eab7a7dfd0",
     "showTitle": false,
     "tableResultSettingsMap": {},
     "title": ""
    }
   },
   "outputs": [],
   "source": [
    "# Na coluna Num_of_Delayed_Payment representa o número de vezes que um cliente atrasou seu pagamento além da data de vencimento. Isso normalmente se refere à contagem total de pagamentos atrasados ​​que um cliente fez em empréstimos, cartões de crédito ou outras obrigações financeiras.\n",
    "#Pode ser um recurso importante para modelos de pontuação de crédito, pois um número maior de pagamentos atrasados ​​geralmente indica um risco maior de inadimplência ou instabilidade financeira. que define o número de pagamentos atrasados, é uma coluna quantitativa, a mesma já passou pela limpeza de caracteres especiais.\n",
    "\n",
    "# Verificando valores\n",
    "df_type = get_valores(df_total, \"Num_of_Delayed_Payment\")\n",
    "df_type.orderBy(col(\"percent\").desc()).show(truncate=False)\n",
    "display(get_caracteres_especiais(df_total, \"Num_of_Delayed_Payment\"))"
   ]
  },
  {
   "cell_type": "code",
   "execution_count": null,
   "metadata": {
    "application/vnd.databricks.v1+cell": {
     "cellMetadata": {
      "byteLimit": 2048000,
      "rowLimit": 10000
     },
     "inputWidgets": {},
     "nuid": "e0e3d881-09d1-4fc9-b0a0-028997728453",
     "showTitle": false,
     "tableResultSettingsMap": {},
     "title": ""
    }
   },
   "outputs": [],
   "source": [
    "# Na coluna Changed_Credit_Limit temos a mudança no limite de crédito, podemos considerar o aumento positivo como um acréscimo e negativo como débito. É uma coluna quantitativa.\n",
    "\n",
    "# Verificando valores\n",
    "df_type = get_valores(df_total, \"Changed_Credit_Limit\")\n",
    "df_type.orderBy(col(\"percent\").desc()).show(truncate=False)\n",
    "display(get_caracteres_especiais(df_total, \"Changed_Credit_Limit\"))\n",
    "\n",
    "# Verificação após tratamento\n",
    "display(df_total.select(\"Changed_Credit_Limit\"))"
   ]
  },
  {
   "cell_type": "code",
   "execution_count": null,
   "metadata": {
    "application/vnd.databricks.v1+cell": {
     "cellMetadata": {
      "byteLimit": 2048000,
      "rowLimit": 10000
     },
     "inputWidgets": {},
     "nuid": "545e71fc-dba5-48da-9098-16943bf772f8",
     "showTitle": false,
     "tableResultSettingsMap": {},
     "title": ""
    }
   },
   "outputs": [],
   "source": [
    "# Na coluna Num_Credit_Inquiries representa o número de consultas de crédito feitas no relatório de crédito de um cliente. Cada consulta normalmente ocorre quando um cliente solicita crédito, como um empréstimo ou cartão de crédito, e os credores solicitam a verificação do histórico de crédito do cliente. Um número maior de consultas de crédito pode indicar um risco maior de instabilidade financeira, pois consultas frequentes podem sugerir que o cliente está buscando múltiplas fontes de crédito. É uma coluna quantitativa\n",
    "\n",
    "# Verificando valores\n",
    "df_type = get_valores(df_total, \"Num_Credit_Inquiries\")\n",
    "df_type.orderBy(col(\"percent\").desc()).show(truncate=False)\n",
    "display(get_caracteres_especiais(df_total, \"Num_Credit_Inquiries\"))"
   ]
  },
  {
   "cell_type": "code",
   "execution_count": null,
   "metadata": {
    "application/vnd.databricks.v1+cell": {
     "cellMetadata": {
      "byteLimit": 2048000,
      "rowLimit": 10000
     },
     "inputWidgets": {},
     "nuid": "e3c4c932-5057-467c-b73b-cbc90006f686",
     "showTitle": false,
     "tableResultSettingsMap": {},
     "title": ""
    }
   },
   "outputs": [],
   "source": [
    "# Na coluna Credit_Mix representa a variedade de tipos de crédito que um cliente utiliza, como cartões de crédito e empréstimos. Uma combinação de crédito equilibrada pode afetar positivamente a pontuação de crédito de um cliente, demonstrando sua capacidade de administrar diferentes tipos de crédito. Existem 3 tipos de crédito: Good, Bad, Standard, os valores diferentes disso estão substituidos por \"Uncategorized\". É uma coluna qualitativa. \n",
    "\n",
    "# Verificando valores\n",
    "df_type = get_valores(df_total, \"Credit_Mix\")\n",
    "df_type.orderBy(col(\"percent\").desc()).show(truncate=False)\n",
    "display(get_caracteres_especiais(df_total, \"Credit_Mix\"))\n",
    "\n",
    "#Substituindo valores \"_\"\n",
    "df_total = df_total.withColumn(\"Credit_Mix\", regexp_replace(col(\"Credit_Mix\"), \"_\", \"Uncategorized\"))\n",
    "\n",
    "#Verificação de valores após o tratamento\n",
    "display(df_total.select(\"Credit_Mix\"))\n"
   ]
  },
  {
   "cell_type": "code",
   "execution_count": null,
   "metadata": {
    "application/vnd.databricks.v1+cell": {
     "cellMetadata": {
      "byteLimit": 2048000,
      "rowLimit": 10000
     },
     "inputWidgets": {},
     "nuid": "11028e19-39e9-47fc-81b2-20f5c7819167",
     "showTitle": false,
     "tableResultSettingsMap": {},
     "title": ""
    }
   },
   "outputs": [],
   "source": [
    "# Na coluna Outstanding_Debt representa o total de dívidas não pagas de um cliente, incluindo saldos de empréstimos, cartões de crédito e outras linhas de crédito. Ela fornece uma visão clara das obrigações financeiras atuais do cliente, o que é fundamental para avaliar o risco de crédito e determinar sua capacidade de gerenciar mais dívidas. É uma coluna quantitativa.\n",
    "\n",
    "# Verificando valores\n",
    "df_type = get_valores(df_total, \"Outstanding_Debt\")\n",
    "df_type.orderBy(col(\"percent\").desc()).show(truncate=False)\n",
    "display(get_caracteres_especiais(df_total, \"Outstanding_Debt\"))\n",
    "\n",
    "# Verificação após o tratamento\n",
    "display(df_total.select(\"Outstanding_Debt\"))"
   ]
  },
  {
   "cell_type": "code",
   "execution_count": null,
   "metadata": {
    "application/vnd.databricks.v1+cell": {
     "cellMetadata": {
      "byteLimit": 2048000,
      "rowLimit": 10000
     },
     "inputWidgets": {},
     "nuid": "ef940f4a-05bf-4d77-8d9d-80c51a96a063",
     "showTitle": false,
     "tableResultSettingsMap": {},
     "title": ""
    }
   },
   "outputs": [],
   "source": [
    "# Na coluna Credit_Utilization_Ratio representa a relação entre a dívida pendente atual de um cliente e seu crédito total disponível. Mede quanto do crédito disponível do cliente está sendo utilizado, expresso em porcentagem. É uma coluna quantitativa\n",
    "\n",
    "# Verificando valores\n",
    "df_type = get_valores(df_total, \"Credit_Utilization_Ratio\")\n",
    "df_type.orderBy(col(\"percent\").desc()).show(truncate=False)\n",
    "display(get_caracteres_especiais(df_total, \"Credit_Utilization_Ratio\"))\n",
    "\n",
    "# Verificação após o tratamento\n",
    "display(df_total.select(\"Credit_Utilization_Ratio\"))\n"
   ]
  },
  {
   "cell_type": "code",
   "execution_count": null,
   "metadata": {
    "application/vnd.databricks.v1+cell": {
     "cellMetadata": {
      "byteLimit": 2048000,
      "rowLimit": 10000
     },
     "inputWidgets": {},
     "nuid": "2ae1f5b3-528d-4268-9a78-2e3f72dc98f5",
     "showTitle": false,
     "tableResultSettingsMap": {},
     "title": ""
    }
   },
   "outputs": [],
   "source": [
    "# Na coluna Credit_History_Age representa a duração total do histórico de crédito de um cliente. Precisa ser transformada em uma coluna numérica. Está é uma coluna quantitativa\n",
    "\n",
    "# Verificando valores\n",
    "df_type = get_valores(df_total, \"Credit_History_Age\")\n",
    "df_type.orderBy(col(\"percent\").desc()).show(truncate=False)\n",
    "display(get_caracteres_especiais(df_total, \"Credit_History_Age\"))\n",
    "\n",
    "#Extrair dos valores das strings\n",
    "df_total = df_total.withColumn(\"credit_years\", regexp_extract(col(\"Credit_History_Age\"), r\"(\\d+)\\s+Years\", 1).cast(\"int\"))\n",
    "df_total = df_total.withColumn(\"credit_months\", regexp_extract(col(\"Credit_History_Age\"), r\"(\\d+)\\s+Months\", 1).cast(\"int\"))\n",
    "\n",
    "# Calcular o total de meses\n",
    "df_total = df_total.withColumn(\"Credit_History_Months\", (col(\"credit_years\") * 12 + col(\"credit_months\")))\n",
    "\n",
    "# Remover as colunas temporárias\n",
    "df_total = df_total.drop(\"credit_years\", \"credit_months\")\n",
    "\n",
    "# Visualizar valores convertidos\n",
    "df_total.select(\"Credit_History_Age\", \"Credit_History_Months\").show(10, truncate=False)"
   ]
  },
  {
   "cell_type": "code",
   "execution_count": null,
   "metadata": {
    "application/vnd.databricks.v1+cell": {
     "cellMetadata": {
      "byteLimit": 2048000,
      "rowLimit": 10000
     },
     "inputWidgets": {},
     "nuid": "93e556d9-53a1-4bf6-b15c-9cd1b8c00f68",
     "showTitle": false,
     "tableResultSettingsMap": {},
     "title": ""
    }
   },
   "outputs": [],
   "source": [
    "# Substituir os valores Nulos da coluna Credit_History_Months\n",
    "df_total = df_total.withColumn(\n",
    "    \"Credit_History_Months\",\n",
    "    when(col(\"Credit_History_Months\").isNull(), 0).otherwise(col(\"Credit_History_Months\"))\n",
    ")\n",
    "\n",
    "# Verificação após substituição\n",
    "df_total.select(\"Credit_History_Months\").distinct().show(truncate=False)"
   ]
  },
  {
   "cell_type": "code",
   "execution_count": null,
   "metadata": {
    "application/vnd.databricks.v1+cell": {
     "cellMetadata": {
      "byteLimit": 2048000,
      "rowLimit": 10000
     },
     "inputWidgets": {},
     "nuid": "07c0ffe3-904c-4992-878e-4ba96b62fda0",
     "showTitle": false,
     "tableResultSettingsMap": {},
     "title": ""
    }
   },
   "outputs": [],
   "source": [
    "# Na coluna Payment_of_Min_Amount representa se um cliente pagou o valor mínimo exigido em suas parcelas de crédito ou empréstimo. Existem valores NM ao qual não aparecem em nenhuma outra coluna, então vamos supor que seja \"No\"\n",
    "get_valores_unicos(df_total, \"Payment_of_Min_Amount\").show()\n",
    "display(df_total.filter(df_total[\"Payment_of_Min_Amount\"] == \"NM\").count())\n",
    "\n",
    "# Substituindo \"NN\" por \"No\"\n",
    "df_total = df_total.withColumn(\n",
    "    \"Payment_of_Min_Amount\",\n",
    "    when(col(\"Payment_of_Min_Amount\") == \"NM\", \"No\").otherwise(col(\"Payment_of_Min_Amount\"))\n",
    ")\n",
    "print(\"\\n Verificação de valores NM: \")\n",
    "display(df_total.filter(df_total[\"Payment_of_Min_Amount\"] == \"NM\").count())"
   ]
  },
  {
   "cell_type": "code",
   "execution_count": null,
   "metadata": {
    "application/vnd.databricks.v1+cell": {
     "cellMetadata": {
      "byteLimit": 2048000,
      "rowLimit": 10000
     },
     "inputWidgets": {},
     "nuid": "67694980-062d-4d39-972a-abdfff3cba9d",
     "showTitle": false,
     "tableResultSettingsMap": {},
     "title": ""
    }
   },
   "outputs": [],
   "source": [
    "# Na coluna Total_EMI_per_month mostra quanto um cliente paga em parcelas mensais do empréstimo, incluindo principal e juros. Valores de EMI mais altos significam mais dívidas, o que pode afetar sua capacidade de assumir novos empréstimos ou gerenciar outras despesas. Esta é uma coluna quantitativa\n",
    "\n",
    "# Verificando valores\n",
    "df_type = get_valores(df_total, \"Total_EMI_per_month\")\n",
    "df_type.orderBy(col(\"percent\").desc()).show(truncate=False)\n",
    "display(get_caracteres_especiais(df_total, \"Total_EMI_per_month\"))\n",
    "\n",
    "# Verificação após o tratamento\n",
    "display(df_total.select(\"Total_EMI_per_month\"))"
   ]
  },
  {
   "cell_type": "code",
   "execution_count": null,
   "metadata": {
    "application/vnd.databricks.v1+cell": {
     "cellMetadata": {
      "byteLimit": 2048000,
      "rowLimit": 10000
     },
     "inputWidgets": {},
     "nuid": "eea2af9d-0bf3-47ff-be19-5019a311e60b",
     "showTitle": false,
     "tableResultSettingsMap": {},
     "title": ""
    }
   },
   "outputs": [],
   "source": [
    "# Na coluna Amount_invested_monthly temos o valor investido mensal por cliente por mês. Refletindo uma \"garantia\" para o crédito, essa é uma coluna quantitativa\n",
    "\n",
    "# Verificando valores\n",
    "df_type = get_valores(df_total, \"Amount_invested_monthly\")\n",
    "df_type.orderBy(col(\"percent\").desc()).show(truncate=False)\n",
    "display(get_caracteres_especiais(df_total, \"Amount_invested_monthly\"))\n",
    "\n",
    "# Verificação após o tratamento\n",
    "display(df_total.select(\"Amount_invested_monthly\"))\n"
   ]
  },
  {
   "cell_type": "code",
   "execution_count": null,
   "metadata": {
    "application/vnd.databricks.v1+cell": {
     "cellMetadata": {
      "byteLimit": 2048000,
      "rowLimit": 10000
     },
     "inputWidgets": {},
     "nuid": "79a985af-7308-4731-b26d-dfab175d5b17",
     "showTitle": false,
     "tableResultSettingsMap": {},
     "title": ""
    }
   },
   "outputs": [],
   "source": [
    "# Na coluna Payment_Behaviour representam os padrões de gastos e pagamentos do cliente. Ela indica se o cliente gasta e faz pagamentos em valores pequenos, médios ou grandes. Esse recurso ajuda a entender como o cliente gerencia suas finanças em termos de gastos e pagamentos.m. Esta é uma coluna qualitativa\n",
    "\n",
    "# Verificando valores\n",
    "df_type = get_valores(df_total, \"Payment_Behaviour\")\n",
    "df_type.orderBy(col(\"percent\").desc()).show(truncate=False)\n",
    "display(get_caracteres_especiais(df_total, \"Payment_Behaviour\"))\n",
    "\n",
    "# Substituir o valor '!@9#%8' por NA na coluna Payment_Behaviour\n",
    "df_total = df_total.withColumn(\n",
    "    \"Payment_Behaviour\",\n",
    "    when(col(\"Payment_Behaviour\") == \"!@9#%8\", \"NA\").otherwise(col(\"Payment_Behaviour\"))\n",
    ")\n",
    "\n",
    "# Verificação após substituição\n",
    "display(df_total.select(\"Payment_Behaviour\").distinct())"
   ]
  },
  {
   "cell_type": "code",
   "execution_count": null,
   "metadata": {
    "application/vnd.databricks.v1+cell": {
     "cellMetadata": {
      "byteLimit": 2048000,
      "rowLimit": 10000
     },
     "inputWidgets": {},
     "nuid": "3385ce3d-fe49-4b72-ba33-70a7c13451c3",
     "showTitle": false,
     "tableResultSettingsMap": {},
     "title": ""
    }
   },
   "outputs": [],
   "source": [
    "# Na coluna Monthly_Balance reflete o saldo restante na conta de um cliente ao final de cada mês, após a contabilização de todas as despesas e receitas. Ele fornece insights sobre a estabilidade e a gestão financeira do cliente. Essa é uma coluna quantitativa\n",
    "\n",
    "# Verificando valores\n",
    "df_type = get_valores(df_total, \"Monthly_Balance\")\n",
    "df_type.orderBy(col(\"percent\").desc()).show(truncate=False)\n",
    "display(get_caracteres_especiais(df_total, \"Monthly_Balance\"))\n",
    "\n",
    "# Verificação após o tratamento\n",
    "display(df_total.select(\"Monthly_Balance\"))"
   ]
  },
  {
   "cell_type": "code",
   "execution_count": null,
   "metadata": {
    "application/vnd.databricks.v1+cell": {
     "cellMetadata": {
      "byteLimit": 2048000,
      "rowLimit": 10000
     },
     "inputWidgets": {},
     "nuid": "203b1587-06f7-4f01-af7f-8d9dab870ab9",
     "showTitle": false,
     "tableResultSettingsMap": {},
     "title": ""
    }
   },
   "outputs": [],
   "source": [
    "# O recurso Credit_Score categoriza os clientes em Good, Poor, Standard com base em sua capacidade de crédito. No mundo real das finanças, isso ajuda os bancos a avaliar riscos, aprovar empréstimos e definir taxas de juros. Pontuações de crédito mais altas indicam menor risco, resultando em melhores condições de empréstimo, enquanto pontuações mais baixas sugerem maior risco.\n",
    "\n",
    "# Para o conjunto de dados e o modelo de ANN, o Credit_Score é a variável-alvo que o modelo busca prever. Ao analisar características como renda, dívida e comportamento de pagamento, o modelo aprende a classificar os clientes nessas categorias. Isso permite uma melhor avaliação de riscos e tomada de decisões, auxiliando as instituições financeiras a tomarem decisões informadas relacionadas a crédito.\n",
    "\n",
    "# Verificação de dados\n",
    "get_valores_unicos(df_total, \"Credit_Score\").show()"
   ]
  },
  {
   "cell_type": "markdown",
   "metadata": {
    "application/vnd.databricks.v1+cell": {
     "cellMetadata": {
      "byteLimit": 2048000,
      "rowLimit": 10000
     },
     "inputWidgets": {},
     "nuid": "912c0a64-4b50-4b86-b930-208ce6fceb52",
     "showTitle": false,
     "tableResultSettingsMap": {},
     "title": ""
    }
   },
   "source": [
    "Dada a natureza financeira dos dados, esses valores discrepantes podem representar variações legítimas nos perfis financeiros dos clientes.\n",
    "Portanto, nenhuma ação imediata será tomada em relação a esses valores discrepantes. Se necessário, após avaliar o desempenho do modelo, ajustes poderão ser considerados para aprimorar ainda mais os resultados.\n",
    "\n",
    "Além dos valores discrepantes, o conjunto de dados também contém atributos com alta assimetria,  Num_Bank_Accounts, Num_Credit_Inquiries, e Interest_Rate.\n",
    "\n",
    "Essas distribuições assimétricas sugerem que os dados não estão distribuídos uniformemente, com muitos valores agrupados em um lado.\n",
    "Embora a assimetria possa afetar o desempenho de certos modelos, ela pode não necessariamente prejudicar o processo de aprendizado de uma RNA, que é mais robusta a tais irregularidades em comparação com modelos lineares.\n",
    "\n",
    "Vou criar um novo data frame voltado para análise ANN enquanto o df_total será reservado para a análise de dados. No novo data frame por enquanto, os atributos assimétricos não serão transformados, pois lidar com eles pode não ser crucial para uma RNA. Entretanto, se for constatado que a assimetria afeta o desempenho do modelo, transformações como a escala logarítmica podem ser consideradas. Também serão dropadas as colunas que não afetam o modelo como ID, Costumer_ID, Name, SSN. \n",
    "\n",
    "No df_total os outliers serão transformados se nencessário."
   ]
  },
  {
   "cell_type": "code",
   "execution_count": null,
   "metadata": {
    "application/vnd.databricks.v1+cell": {
     "cellMetadata": {
      "byteLimit": 2048000,
      "rowLimit": 10000
     },
     "inputWidgets": {},
     "nuid": "9ecba69f-4f01-45e1-8494-5eedb2f39075",
     "showTitle": false,
     "tableResultSettingsMap": {},
     "title": ""
    }
   },
   "outputs": [],
   "source": [
    "# Criação do novo data frame voltado para ANN\n",
    "df_total_ann = df_total"
   ]
  },
  {
   "cell_type": "code",
   "execution_count": null,
   "metadata": {
    "application/vnd.databricks.v1+cell": {
     "cellMetadata": {
      "byteLimit": 2048000,
      "rowLimit": 10000
     },
     "inputWidgets": {},
     "nuid": "c09eb97d-1d66-4cfb-a91a-5e20af869eb2",
     "showTitle": false,
     "tableResultSettingsMap": {},
     "title": ""
    }
   },
   "outputs": [],
   "source": [
    "# Iniciando verificação dos Outliers\n",
    "\n",
    "# Seleciona apenas colunas numéricas\n",
    "numeric_cols = [field.name for field in df_total.schema.fields if isinstance(field.dataType, NumericType)]\n",
    "\n",
    "# Aplica o describe() somente às colunas numéricas\n",
    "desc_df = df_total.select(numeric_cols).describe()\n",
    "\n",
    "desc_transposed = (\n",
    "    desc_df.toPandas()\n",
    "    .set_index('summary')\n",
    "    .transpose()\n",
    "    .reset_index()\n",
    "    .rename(columns={'index': 'feature'})\n",
    ")\n",
    "\n",
    "df_desc = spark.createDataFrame(desc_transposed)\n",
    "display(df_desc)\n"
   ]
  },
  {
   "cell_type": "code",
   "execution_count": null,
   "metadata": {
    "application/vnd.databricks.v1+cell": {
     "cellMetadata": {
      "byteLimit": 2048000,
      "rowLimit": 10000
     },
     "inputWidgets": {},
     "nuid": "768e9f46-7c50-4c2b-867c-7413d923c890",
     "showTitle": false,
     "tableResultSettingsMap": {},
     "title": ""
    }
   },
   "outputs": [],
   "source": [
    "# Vamos passar pela análise de IQR as seguintes colunas com um desvio padrão muito alto com seus valores máximos respectivamente: as cilunas: Annual_Income = 2.4198062E7 Precisamos verificar o caso, se o valor alto também é presente em outras colunas, já as colunas Num_Bank_Accounts = 1798, Num_Credit_Card = 1499, Interest_Rate = 1499, Num_Credit_Inquiries = 2597 são valores claramente irreais.\n",
    "\n",
    "colunas_outliers = {\n",
    "    \"Annual_Income\",\n",
    "    \"Num_Bank_Accounts\",\n",
    "    \"Num_Credit_Card\",\n",
    "    \"Interest_Rate\",\n",
    "    \"Num_Credit_Inquiries\"\n",
    "}\n",
    "\n",
    "limites_iqr = calcular_limites_iqr(df_total, colunas_outliers)\n",
    "\n",
    "for coluna, q1, q3, lim_inf, lim_sup in limites_iqr:\n",
    "    print(f\"{coluna}:\\n  Q1 = {q1:.2f}, Q3 = {q3:.2f}, IQR = {q3 - q1:.2f}\\n  Limite Inferior = {lim_inf:.2f}, Limite Superior = {lim_sup:.2f}\\n\")\n",
    "\n"
   ]
  },
  {
   "cell_type": "code",
   "execution_count": null,
   "metadata": {
    "application/vnd.databricks.v1+cell": {
     "cellMetadata": {
      "byteLimit": 2048000,
      "rowLimit": 10000
     },
     "inputWidgets": {},
     "nuid": "ce606006-9492-4b97-bad7-794754898bcb",
     "showTitle": false,
     "tableResultSettingsMap": {},
     "title": ""
    }
   },
   "outputs": [],
   "source": [
    "df_annual_backup = df_total"
   ]
  },
  {
   "cell_type": "code",
   "execution_count": null,
   "metadata": {
    "application/vnd.databricks.v1+cell": {
     "cellMetadata": {
      "byteLimit": 2048000,
      "rowLimit": 10000
     },
     "inputWidgets": {},
     "nuid": "c6400f28-5710-4cce-96a5-15a371b3133d",
     "showTitle": false,
     "tableResultSettingsMap": {},
     "title": ""
    }
   },
   "outputs": [],
   "source": [
    "# Vamos analisar a coluna Annual_Income primeiro, ela possui valores que betem e não batem com outras, como Monthly_Inhand_Salary, Monthly_Balance entre outras, para usa-la vou aplicar uma correção usando o Monthly_Inhand_Salary * 12 em uma nova coluna. Isso vai ser aplicado apenas para os registros que estão com o acima do limite superior no IQR.\n",
    "\n",
    "# Verificação de valores\n",
    "df_total.orderBy(col(\"Annual_Income\").desc()).show(5)\n",
    "df_annual = df_total.filter(col(\"Annual_Income\") > 150340.99)\n",
    "display(df_annual.orderBy(col(\"Annual_Income\").desc()))\n",
    "\n",
    "# Correção de valores\n",
    "df_total = df_total.withColumn(\n",
    "    \"Annual_Income\",\n",
    "    when(col(\"Annual_Income\") > 150340.99, col(\"Monthly_Inhand_Salary\") * 12)\n",
    "    .otherwise(col(\"Annual_Income\"))\n",
    ")\n",
    "\n",
    "# Verificação após correção\n",
    "display(df_total.orderBy(col(\"Annual_Income\").desc()))"
   ]
  },
  {
   "cell_type": "code",
   "execution_count": null,
   "metadata": {
    "application/vnd.databricks.v1+cell": {
     "cellMetadata": {
      "byteLimit": 2048000,
      "rowLimit": 10000
     },
     "inputWidgets": {},
     "nuid": "bd963867-31a2-4ee2-880d-8d1c4b69209b",
     "showTitle": false,
     "tableResultSettingsMap": {},
     "title": ""
    }
   },
   "outputs": [],
   "source": [
    "df_bck = df_total"
   ]
  },
  {
   "cell_type": "code",
   "execution_count": null,
   "metadata": {
    "application/vnd.databricks.v1+cell": {
     "cellMetadata": {
      "byteLimit": 2048000,
      "rowLimit": 10000
     },
     "inputWidgets": {},
     "nuid": "a5f584b1-f563-4b68-88a2-147a28b6f72b",
     "showTitle": false,
     "tableResultSettingsMap": {},
     "title": ""
    }
   },
   "outputs": [],
   "source": [
    "display(df_total)\n",
    "display(df_bck)"
   ]
  },
  {
   "cell_type": "code",
   "execution_count": null,
   "metadata": {
    "application/vnd.databricks.v1+cell": {
     "cellMetadata": {
      "byteLimit": 2048000,
      "rowLimit": 10000
     },
     "inputWidgets": {},
     "nuid": "e79b77fa-f49e-4c18-af5d-13301862fd0a",
     "showTitle": false,
     "tableResultSettingsMap": {},
     "title": ""
    }
   },
   "outputs": [],
   "source": [
    "# Adequiar coluna Payment_of_Min_Amount para processamento ANN, vamos separa os dataframes\n",
    "get_valores_unicos(df_total, \"Payment_of_Min_Amount\").show()\n",
    "\n",
    "# Substituir 'Yes' por 0 e 'No' por 1 na coluna Payment_of_Min_Amount\n",
    "df_total_ann = df_total.withColumn(\n",
    "    \"Payment_of_Min_Amount\",\n",
    "    when(col(\"Payment_of_Min_Amount\") == \"Yes\", 0)\n",
    "    .when(col(\"Payment_of_Min_Amount\") == \"No\", 1)\n",
    "    .otherwise(col(\"Payment_of_Min_Amount\"))\n",
    ")\n",
    "\n",
    "# Filtrando os dados não numéricos na coluna 'Payment_of_Min_Amount'\n",
    "df_non_numeric = df_total.filter(col(\"Payment_of_Min_Amount\").rlike(\"^[0-9]+$\"))\n",
    "\n",
    "# Mostrar os resultados\n",
    "df_non_numeric.select(col(\"Payment_of_Min_Amount\")).show(10)\n",
    "\n",
    "df_total_ann.select(col(\"Payment_of_Min_Amount\")).distinct().show()"
   ]
  },
  {
   "cell_type": "markdown",
   "metadata": {
    "application/vnd.databricks.v1+cell": {
     "cellMetadata": {
      "byteLimit": 2048000,
      "rowLimit": 10000
     },
     "inputWidgets": {},
     "nuid": "851239a2-a8a3-437c-a8c6-f7c97ef36ee4",
     "showTitle": false,
     "tableResultSettingsMap": {},
     "title": ""
    }
   },
   "source": [
    "A partir dessa parte vamos separar os dataframes, o \"df_total\" será voltado para a Análise Exploratória dos Dados. O \"df_total_ann\" será voltado para algoritmos de Machine Learn. \n",
    "Dito isso vamos descarregar o \"df_total\" em uma base de dados local para consulta."
   ]
  },
  {
   "cell_type": "code",
   "execution_count": null,
   "metadata": {
    "application/vnd.databricks.v1+cell": {
     "cellMetadata": {
      "byteLimit": 2048000,
      "rowLimit": 10000
     },
     "inputWidgets": {},
     "nuid": "dbd5873f-fcc0-49c5-950b-637a12477c82",
     "showTitle": false,
     "tableResultSettingsMap": {},
     "title": ""
    }
   },
   "outputs": [],
   "source": [
    "from pyspark.sql.functions import concat_ws\n",
    "\n",
    "df_total.coalesce(1).write.mode(\"overwrite\").option(\"header\", True).csv(\"/dbfs/FileStore/df_total_csv_4\")"
   ]
  },
  {
   "cell_type": "code",
   "execution_count": null,
   "metadata": {
    "application/vnd.databricks.v1+cell": {
     "cellMetadata": {
      "byteLimit": 2048000,
      "rowLimit": 10000
     },
     "inputWidgets": {},
     "nuid": "323eaa7c-60bd-4601-86a7-7a9750fb9b3e",
     "showTitle": false,
     "tableResultSettingsMap": {},
     "title": ""
    }
   },
   "outputs": [],
   "source": [
    "import pandas as pd\n",
    "df_pd = df_total.toPandas()\n",
    "df_pd.to_csv(\"/dbfs/FileStore/df_total_csv_4/df_total.csv\", index=False)\n",
    "\n",
    "/dbfs/FileStore/df_total_csv_4\n",
    "\n",
    "\n"
   ]
  },
  {
   "cell_type": "markdown",
   "metadata": {
    "application/vnd.databricks.v1+cell": {
     "cellMetadata": {
      "byteLimit": 2048000,
      "rowLimit": 10000
     },
     "inputWidgets": {},
     "nuid": "5688bc2f-42bb-4345-bc30-e2b9000407f5",
     "showTitle": false,
     "tableResultSettingsMap": {},
     "title": ""
    }
   },
   "source": [
    "Exploratory Data Analysis (EDA)\n"
   ]
  },
  {
   "cell_type": "markdown",
   "metadata": {
    "application/vnd.databricks.v1+cell": {
     "cellMetadata": {
      "byteLimit": 2048000,
      "rowLimit": 10000
     },
     "inputWidgets": {},
     "nuid": "12fbeba9-614b-4e65-89b2-ef28da59f175",
     "showTitle": false,
     "tableResultSettingsMap": {},
     "title": ""
    }
   },
   "source": [
    "Colunas: ID, Customer_ID, Name, SSN\n",
    "\n",
    "As colunas de identificação (ID, Customer_ID, Name, SSN) não são diretamente úteis em tarefas de classificação, embora forneça identificação e podem aumentar a complexidade do modelo em vez de melhorar seu desempenho.\n",
    "Portanto, essas colunas serão descartadas ao final da etapa de limpeza dos dados."
   ]
  }
 ],
 "metadata": {
  "application/vnd.databricks.v1+notebook": {
   "computePreferences": null,
   "dashboards": [],
   "environmentMetadata": {
    "base_environment": "",
    "environment_version": "1"
   },
   "inputWidgetPreferences": null,
   "language": "python",
   "notebookMetadata": {
    "mostRecentlyExecutedCommandWithImplicitDF": {
     "commandId": -1,
     "dataframes": [
      "_sqldf"
     ]
    },
    "pythonIndentUnit": 4
   },
   "notebookName": "Notebook_client_credit",
   "widgets": {}
  },
  "kernelspec": {
   "display_name": "Python 3 (ipykernel)",
   "language": "python",
   "name": "python3"
  },
  "language_info": {
   "codemirror_mode": {
    "name": "ipython",
    "version": 3
   },
   "file_extension": ".py",
   "mimetype": "text/x-python",
   "name": "python",
   "nbconvert_exporter": "python",
   "pygments_lexer": "ipython3",
   "version": "3.12.4"
  }
 },
 "nbformat": 4,
 "nbformat_minor": 4
}
