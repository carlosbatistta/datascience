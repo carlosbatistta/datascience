{
 "cells": [
  {
   "cell_type": "code",
   "execution_count": 8,
   "id": "b3b78ae8-ca8a-4a79-8e1a-9b30ddee04de",
   "metadata": {},
   "outputs": [
    {
     "name": "stdin",
     "output_type": "stream",
     "text": [
      "Insira o valor para base em m²:  2\n",
      "Insira o valor para altura em m²:  3\n"
     ]
    },
    {
     "name": "stdout",
     "output_type": "stream",
     "text": [
      "Valor da Área do Paralelograma:  6.0 m²\n"
     ]
    }
   ],
   "source": [
    "base = float(input(\"Insira o valor para base em m²: \"))\n",
    "altura = float(input(\"Insira o valor para altura em m²: \"))\n",
    "area = base * altura\n",
    "print(\"Valor da Área do Paralelograma: \",area,\"m²\")"
   ]
  },
  {
   "cell_type": "code",
   "execution_count": null,
   "id": "8c2cc1eb-7c2c-42c6-b610-bf2d37fd04c7",
   "metadata": {},
   "outputs": [],
   "source": []
  }
 ],
 "metadata": {
  "kernelspec": {
   "display_name": "Python 3 (ipykernel)",
   "language": "python",
   "name": "python3"
  },
  "language_info": {
   "codemirror_mode": {
    "name": "ipython",
    "version": 3
   },
   "file_extension": ".py",
   "mimetype": "text/x-python",
   "name": "python",
   "nbconvert_exporter": "python",
   "pygments_lexer": "ipython3",
   "version": "3.11.7"
  }
 },
 "nbformat": 4,
 "nbformat_minor": 5
}
