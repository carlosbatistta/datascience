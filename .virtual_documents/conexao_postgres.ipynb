pip install psycopg2


import psycopg2


print("Hello")


conn = psycopg2.connect(database = "postgres", 
                        user = "postgres", 
                        host= 'localhost',
                        password = "1234",
                        port = 5432)


cur = conn.cursor()
cur.execute('SELECT * FROM application_record WHERE ID = 2')
rows = cur.fetchall()
conn.commit()
conn.close()
for row in rows:
    print(row)



