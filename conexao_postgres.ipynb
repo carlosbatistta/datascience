{
 "cells": [
  {
   "cell_type": "code",
   "execution_count": 3,
   "id": "6888ac1d-40e5-47fd-9880-18b31d519701",
   "metadata": {},
   "outputs": [
    {
     "name": "stdout",
     "output_type": "stream",
     "text": [
      "Requirement already satisfied: psycopg2 in c:\\users\\admin\\anaconda3\\lib\\site-packages (2.9.9)\n",
      "Note: you may need to restart the kernel to use updated packages.\n"
     ]
    }
   ],
   "source": [
    "pip install psycopg2"
   ]
  },
  {
   "cell_type": "code",
   "execution_count": 5,
   "id": "3fec73e5-2bc6-474a-ae43-5cf453bfe277",
   "metadata": {},
   "outputs": [],
   "source": [
    "import psycopg2"
   ]
  },
  {
   "cell_type": "code",
   "execution_count": 1,
   "id": "f232ebf5-5d84-4454-a823-be6af0bf0d5e",
   "metadata": {},
   "outputs": [
    {
     "name": "stdout",
     "output_type": "stream",
     "text": [
      "Hello\n"
     ]
    }
   ],
   "source": [
    "print(\"Hello\")"
   ]
  },
  {
   "cell_type": "code",
   "execution_count": 13,
   "id": "2828182a-4278-4d93-908a-1462c7dffbeb",
   "metadata": {},
   "outputs": [],
   "source": [
    "conn = psycopg2.connect(database = \"postgres\", \n",
    "                        user = \"postgres\", \n",
    "                        host= 'localhost',\n",
    "                        password = \"1234\",\n",
    "                        port = 5432)"
   ]
  },
  {
   "cell_type": "code",
   "execution_count": 14,
   "id": "4b04b892-d1f3-43cf-a745-4555c3c28dfe",
   "metadata": {},
   "outputs": [
    {
     "name": "stdout",
     "output_type": "stream",
     "text": [
      "(5008805, 'M', 'Y', 'Y', '0', '427500.0', 'Working', 'Higher education', 'Civil marriage', 'Rented apartment', '-12005', '-4542', '1', '1', '0', '0', None, '2.0', 2)\n"
     ]
    }
   ],
   "source": [
    "cur = conn.cursor()\n",
    "cur.execute('SELECT * FROM application_record WHERE ID = 2')\n",
    "rows = cur.fetchall()\n",
    "conn.commit()\n",
    "conn.close()\n",
    "for row in rows:\n",
    "    print(row)"
   ]
  },
  {
   "cell_type": "code",
   "execution_count": null,
   "id": "ee5b8c0e-0029-46e9-b911-a3ef92fc3492",
   "metadata": {},
   "outputs": [],
   "source": []
  }
 ],
 "metadata": {
  "kernelspec": {
   "display_name": "Python 3 (ipykernel)",
   "language": "python",
   "name": "python3"
  },
  "language_info": {
   "codemirror_mode": {
    "name": "ipython",
    "version": 3
   },
   "file_extension": ".py",
   "mimetype": "text/x-python",
   "name": "python",
   "nbconvert_exporter": "python",
   "pygments_lexer": "ipython3",
   "version": "3.11.7"
  }
 },
 "nbformat": 4,
 "nbformat_minor": 5
}
